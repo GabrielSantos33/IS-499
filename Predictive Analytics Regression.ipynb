{
 "cells": [
  {
   "cell_type": "markdown",
   "id": "77b688f5",
   "metadata": {},
   "source": [
    "### Predictive Analytics using Regression"
   ]
  },
  {
   "cell_type": "code",
   "execution_count": 5,
   "id": "59d7d612",
   "metadata": {},
   "outputs": [],
   "source": [
    "import pandas as pd\n",
    "from sklearn import linear_model\n",
    "from sklearn.metrics import roc_auc_score\n",
    "import matplotlib.pyplot as plt"
   ]
  },
  {
   "cell_type": "code",
   "execution_count": 6,
   "id": "a7ae941d",
   "metadata": {
    "scrolled": true
   },
   "outputs": [],
   "source": [
    "basetable = pd.read_csv('basetable_ex2_4.csv')"
   ]
  },
  {
   "cell_type": "code",
   "execution_count": 7,
   "id": "0f3ee535",
   "metadata": {},
   "outputs": [
    {
     "data": {
      "text/html": [
       "<div>\n",
       "<style scoped>\n",
       "    .dataframe tbody tr th:only-of-type {\n",
       "        vertical-align: middle;\n",
       "    }\n",
       "\n",
       "    .dataframe tbody tr th {\n",
       "        vertical-align: top;\n",
       "    }\n",
       "\n",
       "    .dataframe thead th {\n",
       "        text-align: right;\n",
       "    }\n",
       "</style>\n",
       "<table border=\"1\" class=\"dataframe\">\n",
       "  <thead>\n",
       "    <tr style=\"text-align: right;\">\n",
       "      <th></th>\n",
       "      <th>target</th>\n",
       "      <th>gender_F</th>\n",
       "      <th>income_high</th>\n",
       "      <th>income_low</th>\n",
       "      <th>country_USA</th>\n",
       "      <th>country_India</th>\n",
       "      <th>country_UK</th>\n",
       "      <th>age</th>\n",
       "      <th>time_since_last_gift</th>\n",
       "      <th>time_since_first_gift</th>\n",
       "      <th>max_gift</th>\n",
       "      <th>min_gift</th>\n",
       "      <th>mean_gift</th>\n",
       "      <th>number_gift</th>\n",
       "    </tr>\n",
       "  </thead>\n",
       "  <tbody>\n",
       "    <tr>\n",
       "      <th>0</th>\n",
       "      <td>0</td>\n",
       "      <td>1</td>\n",
       "      <td>0</td>\n",
       "      <td>1</td>\n",
       "      <td>0</td>\n",
       "      <td>1</td>\n",
       "      <td>0</td>\n",
       "      <td>65</td>\n",
       "      <td>530</td>\n",
       "      <td>2265</td>\n",
       "      <td>166.0</td>\n",
       "      <td>87.0</td>\n",
       "      <td>116.00</td>\n",
       "      <td>7</td>\n",
       "    </tr>\n",
       "    <tr>\n",
       "      <th>1</th>\n",
       "      <td>0</td>\n",
       "      <td>1</td>\n",
       "      <td>0</td>\n",
       "      <td>0</td>\n",
       "      <td>0</td>\n",
       "      <td>1</td>\n",
       "      <td>0</td>\n",
       "      <td>71</td>\n",
       "      <td>715</td>\n",
       "      <td>715</td>\n",
       "      <td>90.0</td>\n",
       "      <td>90.0</td>\n",
       "      <td>90.00</td>\n",
       "      <td>1</td>\n",
       "    </tr>\n",
       "    <tr>\n",
       "      <th>2</th>\n",
       "      <td>0</td>\n",
       "      <td>1</td>\n",
       "      <td>0</td>\n",
       "      <td>0</td>\n",
       "      <td>0</td>\n",
       "      <td>1</td>\n",
       "      <td>0</td>\n",
       "      <td>28</td>\n",
       "      <td>150</td>\n",
       "      <td>1806</td>\n",
       "      <td>125.0</td>\n",
       "      <td>74.0</td>\n",
       "      <td>96.00</td>\n",
       "      <td>9</td>\n",
       "    </tr>\n",
       "    <tr>\n",
       "      <th>3</th>\n",
       "      <td>0</td>\n",
       "      <td>1</td>\n",
       "      <td>0</td>\n",
       "      <td>1</td>\n",
       "      <td>1</td>\n",
       "      <td>0</td>\n",
       "      <td>0</td>\n",
       "      <td>52</td>\n",
       "      <td>725</td>\n",
       "      <td>2274</td>\n",
       "      <td>117.0</td>\n",
       "      <td>97.0</td>\n",
       "      <td>104.25</td>\n",
       "      <td>4</td>\n",
       "    </tr>\n",
       "    <tr>\n",
       "      <th>4</th>\n",
       "      <td>0</td>\n",
       "      <td>1</td>\n",
       "      <td>1</td>\n",
       "      <td>0</td>\n",
       "      <td>1</td>\n",
       "      <td>0</td>\n",
       "      <td>0</td>\n",
       "      <td>82</td>\n",
       "      <td>805</td>\n",
       "      <td>805</td>\n",
       "      <td>80.0</td>\n",
       "      <td>80.0</td>\n",
       "      <td>80.00</td>\n",
       "      <td>1</td>\n",
       "    </tr>\n",
       "  </tbody>\n",
       "</table>\n",
       "</div>"
      ],
      "text/plain": [
       "   target  gender_F  income_high  income_low  country_USA  country_India  \\\n",
       "0       0         1            0           1            0              1   \n",
       "1       0         1            0           0            0              1   \n",
       "2       0         1            0           0            0              1   \n",
       "3       0         1            0           1            1              0   \n",
       "4       0         1            1           0            1              0   \n",
       "\n",
       "   country_UK  age  time_since_last_gift  time_since_first_gift  max_gift  \\\n",
       "0           0   65                   530                   2265     166.0   \n",
       "1           0   71                   715                    715      90.0   \n",
       "2           0   28                   150                   1806     125.0   \n",
       "3           0   52                   725                   2274     117.0   \n",
       "4           0   82                   805                    805      80.0   \n",
       "\n",
       "   min_gift  mean_gift  number_gift  \n",
       "0      87.0     116.00            7  \n",
       "1      90.0      90.00            1  \n",
       "2      74.0      96.00            9  \n",
       "3      97.0     104.25            4  \n",
       "4      80.0      80.00            1  "
      ]
     },
     "execution_count": 7,
     "metadata": {},
     "output_type": "execute_result"
    }
   ],
   "source": [
    "basetable.head()"
   ]
  },
  {
   "cell_type": "code",
   "execution_count": 8,
   "id": "544356ff",
   "metadata": {},
   "outputs": [
    {
     "name": "stderr",
     "output_type": "stream",
     "text": [
      "C:\\Users\\drake\\anaconda\\lib\\site-packages\\sklearn\\utils\\validation.py:63: DataConversionWarning: A column-vector y was passed when a 1d array was expected. Please change the shape of y to (n_samples, ), for example using ravel().\n",
      "  return f(*args, **kwargs)\n"
     ]
    },
    {
     "data": {
      "text/plain": [
       "LogisticRegression()"
      ]
     },
     "execution_count": 8,
     "metadata": {},
     "output_type": "execute_result"
    }
   ],
   "source": [
    "X = basetable[[\"age\", \"gender_F\", \"time_since_last_gift\"]]\n",
    "y = basetable[[\"target\"]]\n",
    "logreg = linear_model.LogisticRegression()\n",
    "logreg.fit(X, y)"
   ]
  },
  {
   "cell_type": "code",
   "execution_count": 9,
   "id": "51914a5c",
   "metadata": {},
   "outputs": [
    {
     "name": "stdout",
     "output_type": "stream",
     "text": [
      "[0 0 0 0 0]\n"
     ]
    }
   ],
   "source": [
    "# Create a dataframe new_data from current_data that has only the relevant predictors \n",
    "new_data = X[[\"age\", \"gender_F\", \"time_since_last_gift\"]]\n",
    "\n",
    "# Make a prediction for each observation in new_data and assign it to predictions\n",
    "predictions = logreg.predict(new_data)\n",
    "print(predictions[0:5])"
   ]
  },
  {
   "cell_type": "markdown",
   "id": "db6eeb6f",
   "metadata": {},
   "source": [
    "### Calculating AUC\n",
    "The AUC value assesses how well a model can order observations from low probability to be target to high probability to be target. In Python, the roc_auc_score function can be used to calculate the AUC of the model. It takes the true values of the target and the predictions as arguments."
   ]
  },
  {
   "cell_type": "code",
   "execution_count": 10,
   "id": "9be66fce",
   "metadata": {},
   "outputs": [
    {
     "name": "stdout",
     "output_type": "stream",
     "text": [
      "0.63\n"
     ]
    }
   ],
   "source": [
    "# Make predictions\n",
    "predictions = logreg.predict_proba(X)\n",
    "predictions_target = predictions[:,-1]\n",
    "\n",
    "# Calculate the AUC value\n",
    "auc = roc_auc_score(y, predictions_target)\n",
    "print(round(auc,2))"
   ]
  },
  {
   "cell_type": "markdown",
   "id": "5d7220d1",
   "metadata": {},
   "source": [
    "### Using different set of variables to calculate AUC score\n",
    "Adding more variables and therefore more complexity to our logistic regression model does not automatically result in more accurate models. Here we can verify whether adding 3 variables to a model leads to a more accurate model."
   ]
  },
  {
   "cell_type": "code",
   "execution_count": 11,
   "id": "c57df096",
   "metadata": {},
   "outputs": [
    {
     "name": "stderr",
     "output_type": "stream",
     "text": [
      "C:\\Users\\drake\\anaconda\\lib\\site-packages\\sklearn\\utils\\validation.py:63: DataConversionWarning: A column-vector y was passed when a 1d array was expected. Please change the shape of y to (n_samples, ), for example using ravel().\n",
      "  return f(*args, **kwargs)\n",
      "C:\\Users\\drake\\anaconda\\lib\\site-packages\\sklearn\\utils\\validation.py:63: DataConversionWarning: A column-vector y was passed when a 1d array was expected. Please change the shape of y to (n_samples, ), for example using ravel().\n",
      "  return f(*args, **kwargs)\n"
     ]
    },
    {
     "name": "stdout",
     "output_type": "stream",
     "text": [
      "0.68\n",
      "0.69\n"
     ]
    }
   ],
   "source": [
    "# Create appropriate dataframes\n",
    "variables_1 = ['mean_gift', 'income_low']\n",
    "variables_2 = ['mean_gift', 'income_low', 'gender_F', 'country_India', 'age']\n",
    "\n",
    "X_1 = basetable[variables_1]\n",
    "X_2 = basetable[variables_2]\n",
    "y = basetable[[\"target\"]]\n",
    "\n",
    "# Create the logistic regression model\n",
    "logreg = linear_model.LogisticRegression()\n",
    "\n",
    "# Make predictions using the first set of variables and assign the AUC to auc_1\n",
    "logreg.fit(X_1, y)\n",
    "predictions_1 = logreg.predict_proba(X_1)[:,1]\n",
    "auc_1 = roc_auc_score(y, predictions_1)\n",
    "\n",
    "# Make predictions using the second set of variables and assign the AUC to auc_2\n",
    "logreg.fit(X_2, y)\n",
    "predictions_2 = logreg.predict_proba(X_2)[:,1]\n",
    "auc_2 = roc_auc_score(y, predictions_2)\n",
    "\n",
    "# Print auc_1 and auc_2\n",
    "print(round(auc_1,2))\n",
    "print(round(auc_2,2))"
   ]
  },
  {
   "cell_type": "markdown",
   "id": "7e759ff3",
   "metadata": {},
   "source": [
    "#### We can see that the model with 5 variables has the same AUC as the model using only 2 variables. Adding more variables doesn't always increase the AUC.\n",
    "#### Forward stepwise variable selection : Intutive way of variable selection\n",
    "#### Selecting the next best variable\n",
    "* The forward stepwise variable selection method starts with an empty variable set and proceeds in steps, where in each step the next best variable is added.\n",
    "* The auc function calculates for a given variable set variables the AUC of the model that uses this variable set as predictors.\n",
    "* The next_best function calculates which variable should be added in the next step to the variable list.\n",
    "* Task : experiment with these functions to better understand their purpose. We will calculate the AUC of a given variable set, calculate which variable should be added next, and verify that this indeed results in an optimal AUC."
   ]
  },
  {
   "cell_type": "code",
   "execution_count": 12,
   "id": "65e5abf5",
   "metadata": {},
   "outputs": [],
   "source": [
    "from sklearn import linear_model\n",
    "from sklearn.metrics import roc_auc_score\n",
    "import warnings\n",
    "warnings.filterwarnings(\"ignore\")"
   ]
  },
  {
   "cell_type": "code",
   "execution_count": 13,
   "id": "63ee2272",
   "metadata": {},
   "outputs": [],
   "source": [
    "# function to calculate AUC\n",
    "def auc(variables, target, basetable):\n",
    "    \"\"\"calculates AUC\"\"\"\n",
    "    X = basetable[variables]\n",
    "    y = basetable[target]\n",
    "    \n",
    "    logreg = linear_model.LogisticRegression()\n",
    "    logreg.fit(X,y)\n",
    "    \n",
    "    predictions = logreg.predict_proba(X)[:,1]\n",
    "    auc = roc_auc_score(y, predictions)\n",
    "    return auc\n",
    "\n",
    "def next_best(current_variable, candidate_variables, target, basetable):\n",
    "    \"\"\"function looks throughout candidate variables and keeps track of which  variable is best and the auc associated with the best variable\"\"\"\n",
    "    best_auc = -1\n",
    "    best_variable = None\n",
    "    \n",
    "    # for each variable in the candidate variable set calculate the AUC\n",
    "    # current_variable : variables which are already in the model\n",
    "    # extend it with the variable with which we need to evaluate\n",
    "    for v in candidate_variables:\n",
    "        auc_v = auc(candidate_variables + [v], target, basetable)\n",
    "        \n",
    "    # if this AUC is better then the best AUC, change the best AUC and best variable\n",
    "    if auc_v >= best_auc:\n",
    "        best_auc = auc_v\n",
    "        best_variable = v\n",
    "    return best_variable"
   ]
  },
  {
   "cell_type": "code",
   "execution_count": 14,
   "id": "4cab0a2d",
   "metadata": {},
   "outputs": [
    {
     "name": "stdout",
     "output_type": "stream",
     "text": [
      "0.7126\n",
      "gender_F\n",
      "0.7149\n",
      "0.7131\n"
     ]
    }
   ],
   "source": [
    "# Calculate the AUC of a model that uses \"max_gift\", \"mean_gift\" and \"min_gift\" as predictors\n",
    "auc_current = auc([\"max_gift\", \"mean_gift\", \"min_gift\"], [\"target\"], basetable)\n",
    "print(round(auc_current,4))\n",
    "\n",
    "# Calculate which variable among \"age\" and \"gender_F\" should be added to the variables \"max_gift\", \"mean_gift\" and \"min_gift\"\n",
    "next_variable = next_best([\"max_gift\", \"mean_gift\", \"min_gift\"], [\"age\", \"gender_F\"], [\"target\"], basetable)\n",
    "print(next_variable)\n",
    "\n",
    "# Calculate the AUC of a model that uses \"max_gift\", \"mean_gift\", \"min_gift\" and \"age\" as predictors\n",
    "auc_current_age = auc([\"max_gift\", \"mean_gift\", \"min_gift\", \"age\"], [\"target\"], basetable)\n",
    "print(round(auc_current_age,4))\n",
    "\n",
    "# Calculate the AUC of a model that uses \"max_gift\", \"mean_gift\", \"min_gift\" and \"gender_F\" as predictors\n",
    "auc_current_gender_F = auc([\"max_gift\", \"mean_gift\", \"min_gift\", \"gender_F\"], [\"target\"], basetable)\n",
    "print(round(auc_current_gender_F,4))"
   ]
  },
  {
   "cell_type": "markdown",
   "id": "e933aa00",
   "metadata": {},
   "source": [
    "#### The model that has gender_F as next variable has a better AUC than the model that has age as next variable. Therefore, gender_F is selected as the next best variable.\n",
    "### Finding the order of variables\n",
    "* The forward stepwise variable selection procedure starts with an empty set of variables, and adds predictors one by one. In each step, the predictor that has the highest AUC in combination with the current variables is selected.\n",
    "* Task : implement the forward stepwise variable selection procedure. To this end, we can use the next_best function"
   ]
  },
  {
   "cell_type": "code",
   "execution_count": 15,
   "id": "2f9ee975",
   "metadata": {},
   "outputs": [
    {
     "name": "stdout",
     "output_type": "stream",
     "text": [
      "['gender_F', 'income_high', 'income_low', 'country_USA', 'country_India', 'country_UK', 'age', 'time_since_last_gift', 'time_since_first_gift', 'max_gift', 'min_gift', 'mean_gift', 'number_gift']\n"
     ]
    }
   ],
   "source": [
    "# Find the candidate variables\n",
    "candidate_variables = list(basetable.columns.values)\n",
    "candidate_variables.remove(\"target\")\n",
    "print(candidate_variables)"
   ]
  },
  {
   "cell_type": "code",
   "execution_count": 17,
   "id": "6f0825f0",
   "metadata": {},
   "outputs": [
    {
     "name": "stdout",
     "output_type": "stream",
     "text": [
      "Variable added in step 1 is time_since_last_gift.\n",
      "Variable added in step 2 is age.\n",
      "Variable added in step 3 is country_UK.\n",
      "Variable added in step 4 is country_India.\n",
      "Variable added in step 5 is country_USA.\n",
      "['time_since_last_gift', 'age', 'country_UK', 'country_India', 'country_USA']\n"
     ]
    }
   ],
   "source": [
    "# Initialize the current variables\n",
    "current_variables = []\n",
    "\n",
    "# The forward stepwise variable selection procedure\n",
    "number_iterations = 5\n",
    "for i in range(0, number_iterations):\n",
    "    next_variable = next_best(current_variables, candidate_variables, [\"target\"], basetable)\n",
    "    current_variables = current_variables + [next_variable]\n",
    "    candidate_variables.remove(next_variable)\n",
    "    print(\"Variable added in step \" + str(i+1)  + \" is \" + next_variable + \".\")\n",
    "print(current_variables)"
   ]
  },
  {
   "cell_type": "markdown",
   "id": "1504be24",
   "metadata": {},
   "source": [
    "### Correlated variables\n",
    "* The first 10 variables that are added to the model are the following: ['max_gift', 'number_gift', 'time_since_last_gift', 'mean_gift', 'income_high', 'age', 'country_USA', 'gender_F', 'income_low', 'country_UK']\n",
    "* min_gift is not added. Does this mean that it is a bad variable? We can test the performance of the variable by using it in a * model as a single variable and calculating the AUC. How does the AUC of min_gift compare to the AUC of income_high? To this end, we can use the function auc()\n",
    "* It can happen that a good variable is not added because it is highly correlated with a variable that is already in the model. We can test this calculating the correlation between these variables\n",
    "\n",
    "\n",
    "* import numpy\n",
    "* numpy.corrcoef(basetable[\"variable_1\"],basetable[\"variable_2\"])[0,1]"
   ]
  },
  {
   "cell_type": "code",
   "execution_count": 18,
   "id": "4e0f4572",
   "metadata": {},
   "outputs": [],
   "source": [
    "import numpy as np"
   ]
  },
  {
   "cell_type": "markdown",
   "id": "90be917a",
   "metadata": {},
   "source": [
    "* Calculate the AUC of the model using the variable min_gift only.\n",
    "* Calculate the AUC of the model using the variable income_high only.\n",
    "* Calculate the correlation between the variable min_gift and mean_gift."
   ]
  },
  {
   "cell_type": "code",
   "execution_count": 19,
   "id": "0bf0f51b",
   "metadata": {},
   "outputs": [
    {
     "name": "stdout",
     "output_type": "stream",
     "text": [
      "0.57\n",
      "0.52\n",
      "0.76\n"
     ]
    }
   ],
   "source": [
    "# Calculate the AUC of the model using min_gift only\n",
    "auc_min_gift = auc([\"min_gift\"], [\"target\"], basetable)\n",
    "print(round(auc_min_gift,2))\n",
    "\n",
    "# Calculate the AUC of the model using income_high only\n",
    "auc_income_high = auc([\"income_high\"], [\"target\"], basetable)\n",
    "print(round(auc_income_high,2))\n",
    "\n",
    "# Calculate the correlation between min_gift and mean_gift\n",
    "correlation = np.corrcoef(basetable[\"min_gift\"], basetable[\"mean_gift\"])[0,1]\n",
    "print(round(correlation,2))"
   ]
  },
  {
   "cell_type": "markdown",
   "id": "c98945f2",
   "metadata": {},
   "source": [
    "#### min_gift has more predictive power than income_high, but that it is highly correlated with mean_gift and therefore not included in the selected variables.\n",
    "### Partitioning\n",
    "* In order to properly evaluate a model, one can partition the data in a train and test set. The train set contains the data the model is built on, and the test data is used to evaluate the model. This division is done randomly, but when the target incidence is low, it could be necessary to stratify, that is, to make sure that the train and test data contain an equal percentage of targets.\n",
    "* Task : partition the data with stratification and verify that the train and test data have equal target incidence."
   ]
  },
  {
   "cell_type": "code",
   "execution_count": 20,
   "id": "2a0a9d53",
   "metadata": {},
   "outputs": [],
   "source": [
    "# Load the partitioning module\n",
    "from sklearn.model_selection import train_test_split"
   ]
  },
  {
   "cell_type": "code",
   "execution_count": 21,
   "id": "14d04641",
   "metadata": {},
   "outputs": [
    {
     "name": "stdout",
     "output_type": "stream",
     "text": [
      "0.05\n",
      "0.05\n"
     ]
    }
   ],
   "source": [
    "# Create dataframes with variables and target\n",
    "X = basetable.drop(\"target\", 1)\n",
    "y = basetable[\"target\"]\n",
    "\n",
    "# Carry out 50-50 partititioning with stratification\n",
    "X_train, X_test, y_train, y_test = train_test_split(X, y, test_size = 0.5, stratify = y)\n",
    "\n",
    "# Create the final train and test basetables\n",
    "train = pd.concat([X_train, y_train], axis=1)\n",
    "test = pd.concat([X_test, y_test], axis=1)\n",
    "\n",
    "# Check whether train and test have same percentage targets\n",
    "print(round(sum(train['target'])/len(train), 2))\n",
    "print(round(sum(test['target'])/len(test), 2))"
   ]
  },
  {
   "cell_type": "markdown",
   "id": "04c228d6",
   "metadata": {},
   "source": [
    "#### The stratify option makes sure the target incidence is the same in both train and test.\n",
    "### Evaluating a model on test and train\n",
    "* Task : apply AUC function, and check whether the train and test AUC are similar.\n",
    "* Calculate the train and test AUC of the model using \"age\" and \"gender_F\" as predictors using the auc_train_test function."
   ]
  },
  {
   "cell_type": "code",
   "execution_count": 22,
   "id": "95ff82b3",
   "metadata": {},
   "outputs": [
    {
     "name": "stdout",
     "output_type": "stream",
     "text": [
      "0.55\n",
      "0.54\n"
     ]
    }
   ],
   "source": [
    "\n",
    "# Carry out 70-30 partititioning with stratification\n",
    "X_train, X_test, y_train, y_test = train_test_split(X, y, test_size = 0.3, stratify = y)\n",
    "\n",
    "# Create the final train and test basetables\n",
    "train = pd.concat([X_train, y_train], axis=1)\n",
    "test = pd.concat([X_test, y_test], axis=1)\n",
    "\n",
    "auc_train = auc([\"age\", \"gender_F\"], \"target\", train)\n",
    "auc_test = auc([\"age\", \"gender_F\"], \"target\", test)\n",
    "\n",
    "print(round(auc_train,2))\n",
    "print(round(auc_test,2))"
   ]
  },
  {
   "cell_type": "markdown",
   "id": "e79304b8",
   "metadata": {},
   "source": [
    "#### It could happen that the test AUC is slightly lower than the train AUC. This is a perfectly normal phenomenon called over-fitting.\n",
    "### Building the AUC curves\n",
    "* The forward stepwise variable selection procedure provides an order in which variables are optimally added to the predictor set. In order to decide where to cut off the variables, we can make the train and test AUC curves. These curves plot the train and test AUC using the first, first two, first three, ... variables in the model.\n",
    "* Task : plot these AUC curves\n",
    "* variables = ['max_gift', 'time_since_last_gift', 'number_gift', 'mean_gift', 'income_high', 'age', 'gender_F', 'time_since_first_gift', 'income_low', 'country_UK']\n",
    "\n",
    "* auc_values_train, will contain the train AUC values of the model at each iteration\n",
    "\n",
    "* auc_values_test, will contain the test AUC values of the model at each iteration\n",
    "* variables_evaluate, will contain the variables evaluated at each iteration\n",
    "-----------------------------------------------------------------------------------\n",
    "* Iterate over the variables.\n",
    "* In each iteration, add the next variable in variables to variables_evaluate.\n",
    "* In each iteration, calculate the train and test AUC using the auc method. The dataframes train and test contain the train and * test data respectively.\n",
    "* In each iteration, add the calculated values to auc_values_train and auc_values_test"
   ]
  },
  {
   "cell_type": "code",
   "execution_count": 24,
   "id": "2d875c04",
   "metadata": {},
   "outputs": [
    {
     "data": {
      "image/png": "[encoded data removed]",
      "text/plain": [
       "<Figure size 432x288 with 1 Axes>"
      ]
     },
     "metadata": {
      "needs_background": "light"
     },
     "output_type": "display_data"
    }
   ],
   "source": [
    "# Keep track of train and test AUC values\n",
    "auc_values_train = []\n",
    "auc_values_test = []\n",
    "variables_evaluate = []\n",
    "\n",
    "variables = ['max_gift',\n",
    " 'time_since_last_gift',\n",
    " 'number_gift',\n",
    " 'mean_gift',\n",
    " 'income_high',\n",
    " 'age',\n",
    " 'gender_F',\n",
    " 'time_since_first_gift',\n",
    " 'income_low',\n",
    " 'country_UK']\n",
    "\n",
    "# Iterate over the variables in variables\n",
    "for v in variables:\n",
    "  \n",
    "    # Add the variable\n",
    "    variables_evaluate.append(v)\n",
    "    \n",
    "    # Calculate the train and test AUC of this set of variables\n",
    "    auc_train = auc(variables_evaluate, \"target\", train)\n",
    "    auc_test = auc(variables_evaluate, \"target\", test)\n",
    "    \n",
    "    # Append the values to the lists\n",
    "    auc_values_train.append(auc_train)\n",
    "    auc_values_test.append(auc_test)\n",
    "    \n",
    "# Make plot of the AUC values\n",
    "import matplotlib.pyplot as plt\n",
    "import numpy as np\n",
    "\n",
    "x = np.array(range(0,len(auc_values_train)))\n",
    "y_train = np.array(auc_values_train)\n",
    "y_test = np.array(auc_values_test)\n",
    "plt.xticks(x, variables, rotation = 90)\n",
    "plt.plot(x,y_train)\n",
    "plt.plot(x,y_test)\n",
    "plt.ylim((0.6, 0.8))\n",
    "plt.show()"
   ]
  },
  {
   "cell_type": "markdown",
   "id": "17b2a5b0",
   "metadata": {},
   "source": [
    "#### Note that the test AUC curve starts declining sooner than the train curve. The point at which this happens is a good cut-off"
   ]
  },
  {
   "cell_type": "code",
   "execution_count": null,
   "id": "01d9109d",
   "metadata": {},
   "outputs": [],
   "source": []
  }
 ],
 "metadata": {
  "kernelspec": {
   "display_name": "Python 3",
   "language": "python",
   "name": "python3"
  },
  "language_info": {
   "codemirror_mode": {
    "name": "ipython",
    "version": 3
   },
   "file_extension": ".py",
   "mimetype": "text/x-python",
   "name": "python",
   "nbconvert_exporter": "python",
   "pygments_lexer": "ipython3",
   "version": "3.8.8"
  }
 },
 "nbformat": 4,
 "nbformat_minor": 5
}
